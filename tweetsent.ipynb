{
 "cells": [
  {
   "cell_type": "code",
   "execution_count": 1,
   "metadata": {},
   "outputs": [],
   "source": [
    "import tweepy\n",
    "from nltk.sentiment.vader import SentimentIntensityAnalyzer\n",
    "#from textblob import TextBlob\n",
    "import pandas as pd\n",
    "import numpy as np"
   ]
  },
  {
   "cell_type": "code",
   "execution_count": 2,
   "metadata": {},
   "outputs": [
    {
     "name": "stderr",
     "output_type": "stream",
     "text": [
      "[nltk_data] Downloading package vader_lexicon to\n",
      "[nltk_data]     /Users/chrisriggio/nltk_data...\n",
      "[nltk_data]   Package vader_lexicon is already up-to-date!\n"
     ]
    },
    {
     "data": {
      "text/plain": [
       "True"
      ]
     },
     "execution_count": 2,
     "metadata": {},
     "output_type": "execute_result"
    }
   ],
   "source": [
    "import nltk\n",
    "nltk.download('vader_lexicon')"
   ]
  },
  {
   "cell_type": "code",
   "execution_count": 3,
   "metadata": {},
   "outputs": [],
   "source": [
    "pd.set_option('display.width', 10000)"
   ]
  },
  {
   "cell_type": "code",
   "execution_count": 4,
   "metadata": {},
   "outputs": [],
   "source": [
    "api_key = 'apikey'\n",
    "api_key_secret = 'api_key_secret'\n",
    "access_token = 'access_token'\n",
    "access_token_secret = 'access_token_secret'"
   ]
  },
  {
   "cell_type": "code",
   "execution_count": 5,
   "metadata": {},
   "outputs": [
    {
     "data": {
      "text/html": [
       "<div>\n",
       "<style scoped>\n",
       "    .dataframe tbody tr th:only-of-type {\n",
       "        vertical-align: middle;\n",
       "    }\n",
       "\n",
       "    .dataframe tbody tr th {\n",
       "        vertical-align: top;\n",
       "    }\n",
       "\n",
       "    .dataframe thead th {\n",
       "        text-align: right;\n",
       "    }\n",
       "</style>\n",
       "<table border=\"1\" class=\"dataframe\">\n",
       "  <thead>\n",
       "    <tr style=\"text-align: right;\">\n",
       "      <th></th>\n",
       "      <th>Tweets</th>\n",
       "    </tr>\n",
       "  </thead>\n",
       "  <tbody>\n",
       "    <tr>\n",
       "      <th>0</th>\n",
       "      <td>RT @charliekirk11: Did you know:\\n\\nThe FBI in...</td>\n",
       "    </tr>\n",
       "    <tr>\n",
       "      <th>1</th>\n",
       "      <td>RT @dawg_lb: Trump, 'the most successful pro-l...</td>\n",
       "    </tr>\n",
       "    <tr>\n",
       "      <th>2</th>\n",
       "      <td>RT @CaslerNoel: When the Senators heard Sammy ...</td>\n",
       "    </tr>\n",
       "    <tr>\n",
       "      <th>3</th>\n",
       "      <td>RT @BelkissObadia: 🛑🛑THIS🛑🛑🛑\\n\\nNational debt ...</td>\n",
       "    </tr>\n",
       "    <tr>\n",
       "      <th>4</th>\n",
       "      <td>RT @Bob87011423: I can't believe the DEMS thin...</td>\n",
       "    </tr>\n",
       "    <tr>\n",
       "      <th>5</th>\n",
       "      <td>RT @RepAdamSchiff: Donald Trump must be convic...</td>\n",
       "    </tr>\n",
       "    <tr>\n",
       "      <th>6</th>\n",
       "      <td>RT @Arati4Congress: Today, Donald Trump became...</td>\n",
       "    </tr>\n",
       "    <tr>\n",
       "      <th>7</th>\n",
       "      <td>RT @RepAdamSchiff: Donald Trump must be convic...</td>\n",
       "    </tr>\n",
       "    <tr>\n",
       "      <th>8</th>\n",
       "      <td>RT @Defeat_Trump2: What does it say about Dona...</td>\n",
       "    </tr>\n",
       "    <tr>\n",
       "      <th>9</th>\n",
       "      <td>donald trump, the birther, having his pinned t...</td>\n",
       "    </tr>\n",
       "    <tr>\n",
       "      <th>10</th>\n",
       "      <td>RT @donwinslow: I have some issues with @MikeB...</td>\n",
       "    </tr>\n",
       "    <tr>\n",
       "      <th>11</th>\n",
       "      <td>RT @MSNBC: \"Everyone knows there's not a perso...</td>\n",
       "    </tr>\n",
       "    <tr>\n",
       "      <th>12</th>\n",
       "      <td>RT @yrioskSF: muchos relacionaron este cap com...</td>\n",
       "    </tr>\n",
       "    <tr>\n",
       "      <th>13</th>\n",
       "      <td>RT @TheBabylonBee: Massive Plank Appears In Ad...</td>\n",
       "    </tr>\n",
       "    <tr>\n",
       "      <th>14</th>\n",
       "      <td>@realDonaldTrump This from Dirty Donald and On...</td>\n",
       "    </tr>\n",
       "  </tbody>\n",
       "</table>\n",
       "</div>"
      ],
      "text/plain": [
       "                                               Tweets\n",
       "0   RT @charliekirk11: Did you know:\\n\\nThe FBI in...\n",
       "1   RT @dawg_lb: Trump, 'the most successful pro-l...\n",
       "2   RT @CaslerNoel: When the Senators heard Sammy ...\n",
       "3   RT @BelkissObadia: 🛑🛑THIS🛑🛑🛑\\n\\nNational debt ...\n",
       "4   RT @Bob87011423: I can't believe the DEMS thin...\n",
       "5   RT @RepAdamSchiff: Donald Trump must be convic...\n",
       "6   RT @Arati4Congress: Today, Donald Trump became...\n",
       "7   RT @RepAdamSchiff: Donald Trump must be convic...\n",
       "8   RT @Defeat_Trump2: What does it say about Dona...\n",
       "9   donald trump, the birther, having his pinned t...\n",
       "10  RT @donwinslow: I have some issues with @MikeB...\n",
       "11  RT @MSNBC: \"Everyone knows there's not a perso...\n",
       "12  RT @yrioskSF: muchos relacionaron este cap com...\n",
       "13  RT @TheBabylonBee: Massive Plank Appears In Ad...\n",
       "14  @realDonaldTrump This from Dirty Donald and On..."
      ]
     },
     "metadata": {},
     "output_type": "display_data"
    },
    {
     "name": "stdout",
     "output_type": "stream",
     "text": [
      "2020-01-24 21:30:34\n"
     ]
    }
   ],
   "source": [
    "auth = tweepy.OAuthHandler(api_key, api_key_secret)\n",
    "auth.set_access_token(access_token, access_token_secret)\n",
    "\n",
    "api =tweepy.API(auth)\n",
    "\n",
    "tweets = api.search( 'Donald Trump', count=1000)\n",
    "\n",
    "df = pd.DataFrame(data=[tweet.text for tweet in tweets], columns=['Tweets'])\n",
    "\n",
    "display(df.head(15))\n",
    "print(tweets[0].created_at)"
   ]
  },
  {
   "cell_type": "code",
   "execution_count": 6,
   "metadata": {},
   "outputs": [
    {
     "data": {
      "text/plain": [
       "(100, 1)"
      ]
     },
     "execution_count": 6,
     "metadata": {},
     "output_type": "execute_result"
    }
   ],
   "source": [
    "df.shape"
   ]
  },
  {
   "cell_type": "code",
   "execution_count": 7,
   "metadata": {
    "scrolled": false
   },
   "outputs": [
    {
     "data": {
      "text/html": [
       "<div>\n",
       "<style scoped>\n",
       "    .dataframe tbody tr th:only-of-type {\n",
       "        vertical-align: middle;\n",
       "    }\n",
       "\n",
       "    .dataframe tbody tr th {\n",
       "        vertical-align: top;\n",
       "    }\n",
       "\n",
       "    .dataframe thead th {\n",
       "        text-align: right;\n",
       "    }\n",
       "</style>\n",
       "<table border=\"1\" class=\"dataframe\">\n",
       "  <thead>\n",
       "    <tr style=\"text-align: right;\">\n",
       "      <th></th>\n",
       "      <th>Tweets</th>\n",
       "      <th>Polarity</th>\n",
       "    </tr>\n",
       "  </thead>\n",
       "  <tbody>\n",
       "    <tr>\n",
       "      <th>0</th>\n",
       "      <td>RT @charliekirk11: Did you know:\\n\\nThe FBI in...</td>\n",
       "      <td>{'neg': 0.281, 'neu': 0.719, 'pos': 0.0, 'comp...</td>\n",
       "    </tr>\n",
       "    <tr>\n",
       "      <th>1</th>\n",
       "      <td>RT @dawg_lb: Trump, 'the most successful pro-l...</td>\n",
       "      <td>{'neg': 0.0, 'neu': 0.837, 'pos': 0.163, 'comp...</td>\n",
       "    </tr>\n",
       "    <tr>\n",
       "      <th>2</th>\n",
       "      <td>RT @CaslerNoel: When the Senators heard Sammy ...</td>\n",
       "      <td>{'neg': 0.0, 'neu': 1.0, 'pos': 0.0, 'compound...</td>\n",
       "    </tr>\n",
       "    <tr>\n",
       "      <th>3</th>\n",
       "      <td>RT @BelkissObadia: 🛑🛑THIS🛑🛑🛑\\n\\nNational debt ...</td>\n",
       "      <td>{'neg': 0.217, 'neu': 0.697, 'pos': 0.086, 'co...</td>\n",
       "    </tr>\n",
       "    <tr>\n",
       "      <th>4</th>\n",
       "      <td>RT @Bob87011423: I can't believe the DEMS thin...</td>\n",
       "      <td>{'neg': 0.0, 'neu': 0.892, 'pos': 0.108, 'comp...</td>\n",
       "    </tr>\n",
       "    <tr>\n",
       "      <th>5</th>\n",
       "      <td>RT @RepAdamSchiff: Donald Trump must be convic...</td>\n",
       "      <td>{'neg': 0.0, 'neu': 0.875, 'pos': 0.125, 'comp...</td>\n",
       "    </tr>\n",
       "    <tr>\n",
       "      <th>6</th>\n",
       "      <td>RT @Arati4Congress: Today, Donald Trump became...</td>\n",
       "      <td>{'neg': 0.0, 'neu': 1.0, 'pos': 0.0, 'compound...</td>\n",
       "    </tr>\n",
       "    <tr>\n",
       "      <th>7</th>\n",
       "      <td>RT @RepAdamSchiff: Donald Trump must be convic...</td>\n",
       "      <td>{'neg': 0.0, 'neu': 0.875, 'pos': 0.125, 'comp...</td>\n",
       "    </tr>\n",
       "    <tr>\n",
       "      <th>8</th>\n",
       "      <td>RT @Defeat_Trump2: What does it say about Dona...</td>\n",
       "      <td>{'neg': 0.0, 'neu': 1.0, 'pos': 0.0, 'compound...</td>\n",
       "    </tr>\n",
       "    <tr>\n",
       "      <th>9</th>\n",
       "      <td>donald trump, the birther, having his pinned t...</td>\n",
       "      <td>{'neg': 0.116, 'neu': 0.884, 'pos': 0.0, 'comp...</td>\n",
       "    </tr>\n",
       "    <tr>\n",
       "      <th>10</th>\n",
       "      <td>RT @donwinslow: I have some issues with @MikeB...</td>\n",
       "      <td>{'neg': 0.0, 'neu': 1.0, 'pos': 0.0, 'compound...</td>\n",
       "    </tr>\n",
       "    <tr>\n",
       "      <th>11</th>\n",
       "      <td>RT @MSNBC: \"Everyone knows there's not a perso...</td>\n",
       "      <td>{'neg': 0.0, 'neu': 1.0, 'pos': 0.0, 'compound...</td>\n",
       "    </tr>\n",
       "    <tr>\n",
       "      <th>12</th>\n",
       "      <td>RT @yrioskSF: muchos relacionaron este cap com...</td>\n",
       "      <td>{'neg': 0.0, 'neu': 0.906, 'pos': 0.094, 'comp...</td>\n",
       "    </tr>\n",
       "    <tr>\n",
       "      <th>13</th>\n",
       "      <td>RT @TheBabylonBee: Massive Plank Appears In Ad...</td>\n",
       "      <td>{'neg': 0.275, 'neu': 0.725, 'pos': 0.0, 'comp...</td>\n",
       "    </tr>\n",
       "    <tr>\n",
       "      <th>14</th>\n",
       "      <td>@realDonaldTrump This from Dirty Donald and On...</td>\n",
       "      <td>{'neg': 0.175, 'neu': 0.825, 'pos': 0.0, 'comp...</td>\n",
       "    </tr>\n",
       "    <tr>\n",
       "      <th>15</th>\n",
       "      <td>RT @nancylevine: (Reuters) - A bipartisan majo...</td>\n",
       "      <td>{'neg': 0.0, 'neu': 0.936, 'pos': 0.064, 'comp...</td>\n",
       "    </tr>\n",
       "    <tr>\n",
       "      <th>16</th>\n",
       "      <td>RT @PalmerReport: Donald Trump’s day so far:\\n...</td>\n",
       "      <td>{'neg': 0.222, 'neu': 0.778, 'pos': 0.0, 'comp...</td>\n",
       "    </tr>\n",
       "    <tr>\n",
       "      <th>17</th>\n",
       "      <td>RT @Paul_VanDerMeer: In just a couple of years...</td>\n",
       "      <td>{'neg': 0.0, 'neu': 1.0, 'pos': 0.0, 'compound...</td>\n",
       "    </tr>\n",
       "    <tr>\n",
       "      <th>18</th>\n",
       "      <td>RT @medhanieogbe: Donald J. Trump: The U​.​S P...</td>\n",
       "      <td>{'neg': 0.178, 'neu': 0.822, 'pos': 0.0, 'comp...</td>\n",
       "    </tr>\n",
       "    <tr>\n",
       "      <th>19</th>\n",
       "      <td>RT @robreiner: Adam Schiff clearly &amp;amp; force...</td>\n",
       "      <td>{'neg': 0.0, 'neu': 0.828, 'pos': 0.172, 'comp...</td>\n",
       "    </tr>\n",
       "  </tbody>\n",
       "</table>\n",
       "</div>"
      ],
      "text/plain": [
       "                                               Tweets                                           Polarity\n",
       "0   RT @charliekirk11: Did you know:\\n\\nThe FBI in...  {'neg': 0.281, 'neu': 0.719, 'pos': 0.0, 'comp...\n",
       "1   RT @dawg_lb: Trump, 'the most successful pro-l...  {'neg': 0.0, 'neu': 0.837, 'pos': 0.163, 'comp...\n",
       "2   RT @CaslerNoel: When the Senators heard Sammy ...  {'neg': 0.0, 'neu': 1.0, 'pos': 0.0, 'compound...\n",
       "3   RT @BelkissObadia: 🛑🛑THIS🛑🛑🛑\\n\\nNational debt ...  {'neg': 0.217, 'neu': 0.697, 'pos': 0.086, 'co...\n",
       "4   RT @Bob87011423: I can't believe the DEMS thin...  {'neg': 0.0, 'neu': 0.892, 'pos': 0.108, 'comp...\n",
       "5   RT @RepAdamSchiff: Donald Trump must be convic...  {'neg': 0.0, 'neu': 0.875, 'pos': 0.125, 'comp...\n",
       "6   RT @Arati4Congress: Today, Donald Trump became...  {'neg': 0.0, 'neu': 1.0, 'pos': 0.0, 'compound...\n",
       "7   RT @RepAdamSchiff: Donald Trump must be convic...  {'neg': 0.0, 'neu': 0.875, 'pos': 0.125, 'comp...\n",
       "8   RT @Defeat_Trump2: What does it say about Dona...  {'neg': 0.0, 'neu': 1.0, 'pos': 0.0, 'compound...\n",
       "9   donald trump, the birther, having his pinned t...  {'neg': 0.116, 'neu': 0.884, 'pos': 0.0, 'comp...\n",
       "10  RT @donwinslow: I have some issues with @MikeB...  {'neg': 0.0, 'neu': 1.0, 'pos': 0.0, 'compound...\n",
       "11  RT @MSNBC: \"Everyone knows there's not a perso...  {'neg': 0.0, 'neu': 1.0, 'pos': 0.0, 'compound...\n",
       "12  RT @yrioskSF: muchos relacionaron este cap com...  {'neg': 0.0, 'neu': 0.906, 'pos': 0.094, 'comp...\n",
       "13  RT @TheBabylonBee: Massive Plank Appears In Ad...  {'neg': 0.275, 'neu': 0.725, 'pos': 0.0, 'comp...\n",
       "14  @realDonaldTrump This from Dirty Donald and On...  {'neg': 0.175, 'neu': 0.825, 'pos': 0.0, 'comp...\n",
       "15  RT @nancylevine: (Reuters) - A bipartisan majo...  {'neg': 0.0, 'neu': 0.936, 'pos': 0.064, 'comp...\n",
       "16  RT @PalmerReport: Donald Trump’s day so far:\\n...  {'neg': 0.222, 'neu': 0.778, 'pos': 0.0, 'comp...\n",
       "17  RT @Paul_VanDerMeer: In just a couple of years...  {'neg': 0.0, 'neu': 1.0, 'pos': 0.0, 'compound...\n",
       "18  RT @medhanieogbe: Donald J. Trump: The U​.​S P...  {'neg': 0.178, 'neu': 0.822, 'pos': 0.0, 'comp...\n",
       "19  RT @robreiner: Adam Schiff clearly &amp; force...  {'neg': 0.0, 'neu': 0.828, 'pos': 0.172, 'comp..."
      ]
     },
     "metadata": {},
     "output_type": "display_data"
    }
   ],
   "source": [
    "sid = SentimentIntensityAnalyzer()\n",
    "\n",
    "listy = []\n",
    "\n",
    "for index, row in df.iterrows():\n",
    "    ss = sid.polarity_scores(row['Tweets'])\n",
    "    listy.append(ss)\n",
    "\n",
    "se = pd.Series(listy)\n",
    "df['Polarity'] = se.values\n",
    "\n",
    "display(df.head(20))"
   ]
  },
  {
   "cell_type": "code",
   "execution_count": 8,
   "metadata": {},
   "outputs": [
    {
     "data": {
      "text/plain": [
       "0.0"
      ]
     },
     "execution_count": 8,
     "metadata": {},
     "output_type": "execute_result"
    }
   ],
   "source": [
    "df.Polarity.iloc[0]['pos']"
   ]
  },
  {
   "cell_type": "code",
   "execution_count": 9,
   "metadata": {},
   "outputs": [],
   "source": [
    "def tweet_sentiment(data):\n",
    "    negative = []\n",
    "    postive = []\n",
    "    for i in range(len(data)):\n",
    "        n =df.Polarity.iloc[i]['neg']\n",
    "        negative.append(n)\n",
    "\n",
    "    for i in range(len(data)):\n",
    "        p = df.Polarity.iloc[i]['pos']\n",
    "        postive.append(p)\n",
    "    \n",
    "    pos = round(sum(postive), 4) \n",
    "    neg = round(sum(negative), 4)\n",
    "    x = pos/(pos+neg)\n",
    "    \n",
    "    return print(\"Positive: {}\\nNegative: {}\\n\\nPositive ratio: {}\".format(pos, neg, round(x, 4)))"
   ]
  },
  {
   "cell_type": "code",
   "execution_count": 10,
   "metadata": {},
   "outputs": [
    {
     "name": "stdout",
     "output_type": "stream",
     "text": [
      "Positive: 7.511\n",
      "Negative: 7.109\n",
      "\n",
      "Positive ratio: 0.5137\n"
     ]
    }
   ],
   "source": [
    "tweet_sentiment(df)"
   ]
  },
  {
   "cell_type": "code",
   "execution_count": 11,
   "metadata": {},
   "outputs": [
    {
     "data": {
      "text/plain": [
       "'@nudog71 LOL! This got me thinking about the old Andy Griffith Show, which my husband is still a fan of. I can imag… https://t.co/epJurl0CIg'"
      ]
     },
     "execution_count": 11,
     "metadata": {},
     "output_type": "execute_result"
    }
   ],
   "source": [
    "df.Tweets.iloc[20]"
   ]
  },
  {
   "cell_type": "code",
   "execution_count": null,
   "metadata": {},
   "outputs": [],
   "source": []
  },
  {
   "cell_type": "code",
   "execution_count": null,
   "metadata": {},
   "outputs": [],
   "source": []
  }
 ],
 "metadata": {
  "kernelspec": {
   "display_name": "Python 3",
   "language": "python",
   "name": "python3"
  },
  "language_info": {
   "codemirror_mode": {
    "name": "ipython",
    "version": 3
   },
   "file_extension": ".py",
   "mimetype": "text/x-python",
   "name": "python",
   "nbconvert_exporter": "python",
   "pygments_lexer": "ipython3",
   "version": "3.7.5"
  }
 },
 "nbformat": 4,
 "nbformat_minor": 2
}
